{
  "nbformat": 4,
  "nbformat_minor": 0,
  "metadata": {
    "colab": {
      "name": "CreditCard .ipynb",
      "provenance": []
    },
    "kernelspec": {
      "name": "python3",
      "display_name": "Python 3"
    },
    "language_info": {
      "name": "python"
    }
  },
  "cells": [
    {
      "cell_type": "code",
      "metadata": {
        "id": "JWO5JwHC-Lou"
      },
      "source": [
        "import numpy as  np \n",
        "import pandas as pd  "
      ],
      "execution_count": 1,
      "outputs": []
    },
    {
      "cell_type": "code",
      "metadata": {
        "colab": {
          "base_uri": "https://localhost:8080/"
        },
        "id": "mcAYO-ZmEtRR",
        "outputId": "4acc04f7-ccdd-4ca6-e319-9eeebd36048c"
      },
      "source": [
        "data=pd.read_csv('creditcard.csv', error_bad_lines=False)"
      ],
      "execution_count": 8,
      "outputs": [
        {
          "output_type": "stream",
          "text": [
            "b'Skipping line 1987: expected 31 fields, saw 40\\nSkipping line 5954: expected 31 fields, saw 43\\nSkipping line 7934: expected 31 fields, saw 37\\nSkipping line 11915: expected 31 fields, saw 35\\nSkipping line 21861: expected 31 fields, saw 50\\nSkipping line 25836: expected 31 fields, saw 54\\nSkipping line 29799: expected 31 fields, saw 48\\n'\n",
            "b'Skipping line 35743: expected 31 fields, saw 32\\nSkipping line 37723: expected 31 fields, saw 36\\nSkipping line 41683: expected 31 fields, saw 53\\nSkipping line 45643: expected 31 fields, saw 40\\nSkipping line 51585: expected 31 fields, saw 55\\nSkipping line 55548: expected 31 fields, saw 36\\nSkipping line 59510: expected 31 fields, saw 42\\nSkipping line 65453: expected 31 fields, saw 50\\n'\n",
            "b'Skipping line 71396: expected 31 fields, saw 48\\nSkipping line 75356: expected 31 fields, saw 39\\nSkipping line 83277: expected 31 fields, saw 44\\nSkipping line 85258: expected 31 fields, saw 42\\nSkipping line 87238: expected 31 fields, saw 33\\nSkipping line 91201: expected 31 fields, saw 35\\nSkipping line 93183: expected 31 fields, saw 38\\n'\n",
            "b'Skipping line 99127: expected 31 fields, saw 48\\nSkipping line 103089: expected 31 fields, saw 34\\nSkipping line 105069: expected 31 fields, saw 40\\nSkipping line 107050: expected 31 fields, saw 35\\nSkipping line 111011: expected 31 fields, saw 42\\nSkipping line 114971: expected 31 fields, saw 53\\nSkipping line 120912: expected 31 fields, saw 46\\nSkipping line 128835: expected 31 fields, saw 36\\n'\n",
            "b'Skipping line 132796: expected 31 fields, saw 42\\nSkipping line 134776: expected 31 fields, saw 37\\nSkipping line 140719: expected 31 fields, saw 53\\nSkipping line 144680: expected 31 fields, saw 48\\nSkipping line 148640: expected 31 fields, saw 43\\nSkipping line 152602: expected 31 fields, saw 32\\nSkipping line 158543: expected 31 fields, saw 39\\nSkipping line 162503: expected 31 fields, saw 46\\n'\n",
            "b'Skipping line 166467: expected 31 fields, saw 42\\nSkipping line 168447: expected 31 fields, saw 37\\nSkipping line 174390: expected 31 fields, saw 50\\nSkipping line 178349: expected 31 fields, saw 50\\nSkipping line 182308: expected 31 fields, saw 37\\nSkipping line 186268: expected 31 fields, saw 42\\nSkipping line 190228: expected 31 fields, saw 42\\nSkipping line 196166: expected 31 fields, saw 40\\n'\n",
            "b'Skipping line 200130: expected 31 fields, saw 45\\nSkipping line 204092: expected 31 fields, saw 40\\nSkipping line 212010: expected 31 fields, saw 49\\nSkipping line 215969: expected 31 fields, saw 48\\nSkipping line 219929: expected 31 fields, saw 46\\nSkipping line 223887: expected 31 fields, saw 39\\nSkipping line 225868: expected 31 fields, saw 32\\n'\n",
            "b'Skipping line 229829: expected 31 fields, saw 45\\nSkipping line 233788: expected 31 fields, saw 46\\nSkipping line 237746: expected 31 fields, saw 44\\nSkipping line 249630: expected 31 fields, saw 34\\nSkipping line 251611: expected 31 fields, saw 33\\nSkipping line 253592: expected 31 fields, saw 45\\nSkipping line 259537: expected 31 fields, saw 41\\n'\n",
            "b'Skipping line 263503: expected 31 fields, saw 39\\nSkipping line 267478: expected 31 fields, saw 44\\nSkipping line 271454: expected 31 fields, saw 52\\nSkipping line 275427: expected 31 fields, saw 36\\nSkipping line 279398: expected 31 fields, saw 34\\nSkipping line 281388: expected 31 fields, saw 35\\nSkipping line 285349: expected 31 fields, saw 34\\nSkipping line 287330: expected 31 fields, saw 44\\nSkipping line 289307: expected 31 fields, saw 36\\n'\n",
            "b'Skipping line 295253: expected 31 fields, saw 48\\nSkipping line 299225: expected 31 fields, saw 32\\nSkipping line 301201: expected 31 fields, saw 34\\nSkipping line 305175: expected 31 fields, saw 41\\n'\n",
            "/usr/local/lib/python3.7/dist-packages/IPython/core/interactiveshell.py:2718: DtypeWarning: Columns (2,4,6,8,10,12,14,15,18,22,24) have mixed types.Specify dtype option on import or set low_memory=False.\n",
            "  interactivity=interactivity, compiler=compiler, result=result)\n"
          ],
          "name": "stderr"
        }
      ]
    },
    {
      "cell_type": "code",
      "metadata": {
        "colab": {
          "base_uri": "https://localhost:8080/",
          "height": 184
        },
        "id": "4bTKuMRUEtVe",
        "outputId": "d2d8fc4b-f338-4af8-9e4b-21f9d46e5ee7"
      },
      "source": [
        "data.head(4)"
      ],
      "execution_count": 9,
      "outputs": [
        {
          "output_type": "execute_result",
          "data": {
            "text/html": [
              "<div>\n",
              "<style scoped>\n",
              "    .dataframe tbody tr th:only-of-type {\n",
              "        vertical-align: middle;\n",
              "    }\n",
              "\n",
              "    .dataframe tbody tr th {\n",
              "        vertical-align: top;\n",
              "    }\n",
              "\n",
              "    .dataframe thead th {\n",
              "        text-align: right;\n",
              "    }\n",
              "</style>\n",
              "<table border=\"1\" class=\"dataframe\">\n",
              "  <thead>\n",
              "    <tr style=\"text-align: right;\">\n",
              "      <th></th>\n",
              "      <th>Time</th>\n",
              "      <th>V1</th>\n",
              "      <th>V2</th>\n",
              "      <th>V3</th>\n",
              "      <th>V4</th>\n",
              "      <th>V5</th>\n",
              "      <th>V6</th>\n",
              "      <th>V7</th>\n",
              "      <th>V8</th>\n",
              "      <th>V9</th>\n",
              "      <th>V10</th>\n",
              "      <th>V11</th>\n",
              "      <th>V12</th>\n",
              "      <th>V13</th>\n",
              "      <th>V14</th>\n",
              "      <th>V15</th>\n",
              "      <th>V16</th>\n",
              "      <th>V17</th>\n",
              "      <th>V18</th>\n",
              "      <th>V19</th>\n",
              "      <th>V20</th>\n",
              "      <th>V21</th>\n",
              "      <th>V22</th>\n",
              "      <th>V23</th>\n",
              "      <th>V24</th>\n",
              "      <th>V25</th>\n",
              "      <th>V26</th>\n",
              "      <th>V27</th>\n",
              "      <th>V28</th>\n",
              "      <th>Amount</th>\n",
              "      <th>Class</th>\n",
              "    </tr>\n",
              "  </thead>\n",
              "  <tbody>\n",
              "    <tr>\n",
              "      <th>0</th>\n",
              "      <td>0.0</td>\n",
              "      <td>-1.359807</td>\n",
              "      <td>-0.0727811733098497</td>\n",
              "      <td>2.536347</td>\n",
              "      <td>1.37816</td>\n",
              "      <td>-0.338321</td>\n",
              "      <td>0.462388</td>\n",
              "      <td>0.239599</td>\n",
              "      <td>0.0986979</td>\n",
              "      <td>0.363787</td>\n",
              "      <td>0.0907942</td>\n",
              "      <td>-0.551600</td>\n",
              "      <td>-0.617801</td>\n",
              "      <td>-0.991390</td>\n",
              "      <td>-0.311169</td>\n",
              "      <td>1.46818</td>\n",
              "      <td>-0.470401</td>\n",
              "      <td>0.207971</td>\n",
              "      <td>0.0257906</td>\n",
              "      <td>0.403993</td>\n",
              "      <td>0.251412</td>\n",
              "      <td>-0.018307</td>\n",
              "      <td>0.277837575558899</td>\n",
              "      <td>-0.110474</td>\n",
              "      <td>0.0669281</td>\n",
              "      <td>0.128539</td>\n",
              "      <td>-0.189115</td>\n",
              "      <td>0.133558</td>\n",
              "      <td>-0.021053</td>\n",
              "      <td>149.62</td>\n",
              "      <td>0.0</td>\n",
              "    </tr>\n",
              "    <tr>\n",
              "      <th>1</th>\n",
              "      <td>0.0</td>\n",
              "      <td>1.191857</td>\n",
              "      <td>0.26615071205963</td>\n",
              "      <td>0.166480</td>\n",
              "      <td>0.448154</td>\n",
              "      <td>0.060018</td>\n",
              "      <td>-0.0823608</td>\n",
              "      <td>-0.078803</td>\n",
              "      <td>0.0851017</td>\n",
              "      <td>-0.255425</td>\n",
              "      <td>-0.166974</td>\n",
              "      <td>1.612727</td>\n",
              "      <td>1.06524</td>\n",
              "      <td>0.489095</td>\n",
              "      <td>-0.143772</td>\n",
              "      <td>0.635558</td>\n",
              "      <td>0.463917</td>\n",
              "      <td>-0.114805</td>\n",
              "      <td>-0.183361</td>\n",
              "      <td>-0.145783</td>\n",
              "      <td>-0.069083</td>\n",
              "      <td>-0.225775</td>\n",
              "      <td>-0.638671952771851</td>\n",
              "      <td>0.101288</td>\n",
              "      <td>-0.339846</td>\n",
              "      <td>0.167170</td>\n",
              "      <td>0.125895</td>\n",
              "      <td>-0.008983</td>\n",
              "      <td>0.014724</td>\n",
              "      <td>2.69</td>\n",
              "      <td>0.0</td>\n",
              "    </tr>\n",
              "    <tr>\n",
              "      <th>2</th>\n",
              "      <td>1.0</td>\n",
              "      <td>-1.358354</td>\n",
              "      <td>-1.34016307473609</td>\n",
              "      <td>1.773209</td>\n",
              "      <td>0.37978</td>\n",
              "      <td>-0.503198</td>\n",
              "      <td>1.8005</td>\n",
              "      <td>0.791461</td>\n",
              "      <td>0.247676</td>\n",
              "      <td>-1.514654</td>\n",
              "      <td>0.207643</td>\n",
              "      <td>0.624501</td>\n",
              "      <td>0.0660837</td>\n",
              "      <td>0.717293</td>\n",
              "      <td>-0.165946</td>\n",
              "      <td>2.34586</td>\n",
              "      <td>-2.890083</td>\n",
              "      <td>1.109969</td>\n",
              "      <td>-0.121359</td>\n",
              "      <td>-2.261857</td>\n",
              "      <td>0.524980</td>\n",
              "      <td>0.247998</td>\n",
              "      <td>0.771679401917229</td>\n",
              "      <td>0.909412</td>\n",
              "      <td>-0.689281</td>\n",
              "      <td>-0.327642</td>\n",
              "      <td>-0.139097</td>\n",
              "      <td>-0.055353</td>\n",
              "      <td>-0.059752</td>\n",
              "      <td>378.66</td>\n",
              "      <td>0.0</td>\n",
              "    </tr>\n",
              "    <tr>\n",
              "      <th>3</th>\n",
              "      <td>1.0</td>\n",
              "      <td>-0.966272</td>\n",
              "      <td>-0.185226008082898</td>\n",
              "      <td>1.792993</td>\n",
              "      <td>-0.863291</td>\n",
              "      <td>-0.010309</td>\n",
              "      <td>1.2472</td>\n",
              "      <td>0.237609</td>\n",
              "      <td>0.377436</td>\n",
              "      <td>-1.387024</td>\n",
              "      <td>-0.0549519</td>\n",
              "      <td>-0.226487</td>\n",
              "      <td>0.178228</td>\n",
              "      <td>0.507757</td>\n",
              "      <td>-0.287924</td>\n",
              "      <td>-0.631418</td>\n",
              "      <td>-1.059647</td>\n",
              "      <td>-0.684093</td>\n",
              "      <td>1.96578</td>\n",
              "      <td>-1.232622</td>\n",
              "      <td>-0.208038</td>\n",
              "      <td>-0.108300</td>\n",
              "      <td>0.00527359678253453</td>\n",
              "      <td>-0.190321</td>\n",
              "      <td>-1.17558</td>\n",
              "      <td>0.647376</td>\n",
              "      <td>-0.221929</td>\n",
              "      <td>0.062723</td>\n",
              "      <td>0.061458</td>\n",
              "      <td>123.50</td>\n",
              "      <td>0.0</td>\n",
              "    </tr>\n",
              "  </tbody>\n",
              "</table>\n",
              "</div>"
            ],
            "text/plain": [
              "   Time        V1                   V2  ...       V28  Amount  Class\n",
              "0   0.0 -1.359807  -0.0727811733098497  ... -0.021053  149.62    0.0\n",
              "1   0.0  1.191857     0.26615071205963  ...  0.014724    2.69    0.0\n",
              "2   1.0 -1.358354    -1.34016307473609  ... -0.059752  378.66    0.0\n",
              "3   1.0 -0.966272   -0.185226008082898  ...  0.061458  123.50    0.0\n",
              "\n",
              "[4 rows x 31 columns]"
            ]
          },
          "metadata": {
            "tags": []
          },
          "execution_count": 9
        }
      ]
    },
    {
      "cell_type": "code",
      "metadata": {
        "colab": {
          "base_uri": "https://localhost:8080/"
        },
        "id": "M7DcZM44EtXd",
        "outputId": "05a03b28-2844-447d-cd2a-1584a1bfce52"
      },
      "source": [
        "data.info()"
      ],
      "execution_count": 10,
      "outputs": [
        {
          "output_type": "stream",
          "text": [
            "<class 'pandas.core.frame.DataFrame'>\n",
            "RangeIndex: 307093 entries, 0 to 307092\n",
            "Data columns (total 31 columns):\n",
            " #   Column  Non-Null Count   Dtype  \n",
            "---  ------  --------------   -----  \n",
            " 0   Time    307093 non-null  float64\n",
            " 1   V1      307093 non-null  float64\n",
            " 2   V2      307093 non-null  object \n",
            " 3   V3      307093 non-null  float64\n",
            " 4   V4      307093 non-null  object \n",
            " 5   V5      307092 non-null  float64\n",
            " 6   V6      307092 non-null  object \n",
            " 7   V7      307091 non-null  float64\n",
            " 8   V8      307090 non-null  object \n",
            " 9   V9      307088 non-null  float64\n",
            " 10  V10     307087 non-null  object \n",
            " 11  V11     307085 non-null  float64\n",
            " 12  V12     307083 non-null  object \n",
            " 13  V13     307080 non-null  float64\n",
            " 14  V14     307079 non-null  object \n",
            " 15  V15     307077 non-null  object \n",
            " 16  V16     307076 non-null  float64\n",
            " 17  V17     307070 non-null  float64\n",
            " 18  V18     307065 non-null  object \n",
            " 19  V19     307060 non-null  float64\n",
            " 20  V20     307054 non-null  float64\n",
            " 21  V21     307051 non-null  float64\n",
            " 22  V22     307050 non-null  object \n",
            " 23  V23     307047 non-null  float64\n",
            " 24  V24     307042 non-null  object \n",
            " 25  V25     307040 non-null  float64\n",
            " 26  V26     307036 non-null  float64\n",
            " 27  V27     307031 non-null  float64\n",
            " 28  V28     307029 non-null  float64\n",
            " 29  Amount  307022 non-null  float64\n",
            " 30  Class   307015 non-null  float64\n",
            "dtypes: float64(20), object(11)\n",
            "memory usage: 72.6+ MB\n"
          ],
          "name": "stdout"
        }
      ]
    },
    {
      "cell_type": "code",
      "metadata": {
        "colab": {
          "base_uri": "https://localhost:8080/"
        },
        "id": "75gwnHzRNk9c",
        "outputId": "2645eaa5-1229-4b77-f52c-b3c198f54a05"
      },
      "source": [
        "len(data)"
      ],
      "execution_count": 11,
      "outputs": [
        {
          "output_type": "execute_result",
          "data": {
            "text/plain": [
              "307093"
            ]
          },
          "metadata": {
            "tags": []
          },
          "execution_count": 11
        }
      ]
    },
    {
      "cell_type": "code",
      "metadata": {
        "colab": {
          "base_uri": "https://localhost:8080/"
        },
        "id": "gxqchzUmNnCj",
        "outputId": "818a3097-2fd9-474c-f1a2-8903daa69792"
      },
      "source": [
        "data.isnull().sum()"
      ],
      "execution_count": 14,
      "outputs": [
        {
          "output_type": "execute_result",
          "data": {
            "text/plain": [
              "Time       0\n",
              "V1         0\n",
              "V2         0\n",
              "V3         0\n",
              "V4         0\n",
              "V5         1\n",
              "V6         1\n",
              "V7         2\n",
              "V8         3\n",
              "V9         5\n",
              "V10        6\n",
              "V11        8\n",
              "V12       10\n",
              "V13       13\n",
              "V14       14\n",
              "V15       16\n",
              "V16       17\n",
              "V17       23\n",
              "V18       28\n",
              "V19       33\n",
              "V20       39\n",
              "V21       42\n",
              "V22       43\n",
              "V23       46\n",
              "V24       51\n",
              "V25       53\n",
              "V26       57\n",
              "V27       62\n",
              "V28       64\n",
              "Amount    71\n",
              "Class     78\n",
              "dtype: int64"
            ]
          },
          "metadata": {
            "tags": []
          },
          "execution_count": 14
        }
      ]
    },
    {
      "cell_type": "code",
      "metadata": {
        "colab": {
          "base_uri": "https://localhost:8080/"
        },
        "id": "ucpqMHfaPbWb",
        "outputId": "715811fe-fb61-4754-f3b6-92e8ab6e220d"
      },
      "source": [
        "data.info()"
      ],
      "execution_count": 16,
      "outputs": [
        {
          "output_type": "stream",
          "text": [
            "<class 'pandas.core.frame.DataFrame'>\n",
            "RangeIndex: 307093 entries, 0 to 307092\n",
            "Data columns (total 31 columns):\n",
            " #   Column  Non-Null Count   Dtype  \n",
            "---  ------  --------------   -----  \n",
            " 0   Time    307093 non-null  float64\n",
            " 1   V1      307093 non-null  float64\n",
            " 2   V2      307093 non-null  object \n",
            " 3   V3      307093 non-null  float64\n",
            " 4   V4      307093 non-null  object \n",
            " 5   V5      307092 non-null  float64\n",
            " 6   V6      307092 non-null  object \n",
            " 7   V7      307091 non-null  float64\n",
            " 8   V8      307090 non-null  object \n",
            " 9   V9      307088 non-null  float64\n",
            " 10  V10     307087 non-null  object \n",
            " 11  V11     307085 non-null  float64\n",
            " 12  V12     307083 non-null  object \n",
            " 13  V13     307080 non-null  float64\n",
            " 14  V14     307079 non-null  object \n",
            " 15  V15     307077 non-null  object \n",
            " 16  V16     307076 non-null  float64\n",
            " 17  V17     307070 non-null  float64\n",
            " 18  V18     307065 non-null  object \n",
            " 19  V19     307060 non-null  float64\n",
            " 20  V20     307054 non-null  float64\n",
            " 21  V21     307051 non-null  float64\n",
            " 22  V22     307050 non-null  object \n",
            " 23  V23     307047 non-null  float64\n",
            " 24  V24     307042 non-null  object \n",
            " 25  V25     307040 non-null  float64\n",
            " 26  V26     307036 non-null  float64\n",
            " 27  V27     307031 non-null  float64\n",
            " 28  V28     307029 non-null  float64\n",
            " 29  Amount  307022 non-null  float64\n",
            " 30  Class   307015 non-null  float64\n",
            "dtypes: float64(20), object(11)\n",
            "memory usage: 72.6+ MB\n"
          ],
          "name": "stdout"
        }
      ]
    },
    {
      "cell_type": "code",
      "metadata": {
        "id": "YCZN_qHSPWwg"
      },
      "source": [
        "from sklearn.preprocessing import  LabelEncoder\n",
        "label=LabelEncoder()\n",
        "data['V2']=pd.to_numeric(data.V2, errors='coerce')\n",
        "data['V4']=pd.to_numeric(data.V4, errors='coerce')\n",
        "data['V6']=pd.to_numeric(data.V6, errors='coerce')\n",
        "data['V8']=pd.to_numeric(data.V8, errors='coerce')\n",
        "data['V10']=pd.to_numeric(data.V10, errors='coerce')\n",
        "data['V12']=pd.to_numeric(data.V12, errors='coerce')\n",
        "data['V14']=pd.to_numeric(data.V14, errors='coerce')\n",
        "data['V15']=pd.to_numeric(data.V15, errors='coerce')\n",
        "data['V16']=pd.to_numeric(data.V16, errors='coerce')\n",
        "data['V18']=pd.to_numeric(data.V18, errors='coerce')\n",
        "data['V20']=pd.to_numeric(data.V20, errors='coerce')\n",
        "data['V22']=pd.to_numeric(data.V22, errors='coerce')\n",
        "data['V24']=pd.to_numeric(data.V24, errors='coerce')\n"
      ],
      "execution_count": 23,
      "outputs": []
    },
    {
      "cell_type": "code",
      "metadata": {
        "colab": {
          "base_uri": "https://localhost:8080/"
        },
        "id": "2Ykg9ERdR8Lf",
        "outputId": "a347c8de-8668-440d-8d9d-6a31a605cbaf"
      },
      "source": [
        "data.info()"
      ],
      "execution_count": 24,
      "outputs": [
        {
          "output_type": "stream",
          "text": [
            "<class 'pandas.core.frame.DataFrame'>\n",
            "RangeIndex: 307093 entries, 0 to 307092\n",
            "Data columns (total 32 columns):\n",
            " #   Column  Non-Null Count   Dtype  \n",
            "---  ------  --------------   -----  \n",
            " 0   Time    307093 non-null  float64\n",
            " 1   V1      307093 non-null  float64\n",
            " 2   V2      307092 non-null  float64\n",
            " 3   V3      307093 non-null  float64\n",
            " 4   V4      307092 non-null  float64\n",
            " 5   V5      307092 non-null  float64\n",
            " 6   V6      307090 non-null  float64\n",
            " 7   V7      307091 non-null  float64\n",
            " 8   V8      307088 non-null  float64\n",
            " 9   V9      307088 non-null  float64\n",
            " 10  V10     307086 non-null  float64\n",
            " 11  V11     307085 non-null  float64\n",
            " 12  V12     307082 non-null  float64\n",
            " 13  V13     307080 non-null  float64\n",
            " 14  V14     307078 non-null  float64\n",
            " 15  V15     307076 non-null  float64\n",
            " 16  V16     307076 non-null  float64\n",
            " 17  V17     307070 non-null  float64\n",
            " 18  V18     307064 non-null  float64\n",
            " 19  V19     307060 non-null  float64\n",
            " 20  V20     307054 non-null  float64\n",
            " 21  V21     307051 non-null  float64\n",
            " 22  V22     307049 non-null  float64\n",
            " 23  V23     307047 non-null  float64\n",
            " 24  V24     307041 non-null  float64\n",
            " 25  V25     307040 non-null  float64\n",
            " 26  V26     307036 non-null  float64\n",
            " 27  V27     307031 non-null  float64\n",
            " 28  V28     307029 non-null  float64\n",
            " 29  Amount  307022 non-null  float64\n",
            " 30  Class   307015 non-null  float64\n",
            " 31  V165    307076 non-null  float64\n",
            "dtypes: float64(32)\n",
            "memory usage: 75.0 MB\n"
          ],
          "name": "stdout"
        }
      ]
    },
    {
      "cell_type": "code",
      "metadata": {
        "id": "2h4XzTjVObAd"
      },
      "source": [
        "data = data.astype('float').fillna(data.astype('float').mean())"
      ],
      "execution_count": 27,
      "outputs": []
    },
    {
      "cell_type": "code",
      "metadata": {
        "colab": {
          "base_uri": "https://localhost:8080/"
        },
        "id": "wiDDlWHFTDSA",
        "outputId": "41482ba5-3fba-45c5-eae3-bca57e301cd2"
      },
      "source": [
        "data.isnull().sum()"
      ],
      "execution_count": 29,
      "outputs": [
        {
          "output_type": "execute_result",
          "data": {
            "text/plain": [
              "Time      0\n",
              "V1        0\n",
              "V2        0\n",
              "V3        0\n",
              "V4        0\n",
              "V5        0\n",
              "V6        0\n",
              "V7        0\n",
              "V8        0\n",
              "V9        0\n",
              "V10       0\n",
              "V11       0\n",
              "V12       0\n",
              "V13       0\n",
              "V14       0\n",
              "V15       0\n",
              "V16       0\n",
              "V17       0\n",
              "V18       0\n",
              "V19       0\n",
              "V20       0\n",
              "V21       0\n",
              "V22       0\n",
              "V23       0\n",
              "V24       0\n",
              "V25       0\n",
              "V26       0\n",
              "V27       0\n",
              "V28       0\n",
              "Amount    0\n",
              "Class     0\n",
              "V165      0\n",
              "dtype: int64"
            ]
          },
          "metadata": {
            "tags": []
          },
          "execution_count": 29
        }
      ]
    },
    {
      "cell_type": "code",
      "metadata": {
        "id": "sgVS_3DNTIhM"
      },
      "source": [
        "#now we dont have any null values \n",
        "X = data.iloc[:,:-1]\n",
        "y = data['Class']"
      ],
      "execution_count": 32,
      "outputs": []
    },
    {
      "cell_type": "code",
      "metadata": {
        "colab": {
          "base_uri": "https://localhost:8080/"
        },
        "id": "xg_nPVHdTkmi",
        "outputId": "16908859-e737-4666-b31a-afcdeea763f1"
      },
      "source": [
        "frauds = data.loc[data['Class'] == 1]\n",
        "non_frauds = data.loc[data['Class'] == 0]\n",
        "print(\"We have\", len(frauds), \"fraud data points and\", len(non_frauds), \"regular data points.\")"
      ],
      "execution_count": 36,
      "outputs": [
        {
          "output_type": "stream",
          "text": [
            "We have 617 fraud data points and 306398 regular data points.\n"
          ],
          "name": "stdout"
        }
      ]
    },
    {
      "cell_type": "code",
      "metadata": {
        "id": "TlNodTldT3xx"
      },
      "source": [
        "from sklearn.model_selection import train_test_split\n",
        "X_train, X_test, y_train, y_test = train_test_split(X, y, train_size=0.50,test_size=0.30,random_state=42)"
      ],
      "execution_count": 38,
      "outputs": []
    },
    {
      "cell_type": "code",
      "metadata": {
        "colab": {
          "base_uri": "https://localhost:8080/"
        },
        "id": "pkkSSak_Un9U",
        "outputId": "67da003a-9112-4306-f436-d6fe0e845435"
      },
      "source": [
        "print(\"Size of training set: \", X_train.shape)"
      ],
      "execution_count": 43,
      "outputs": [
        {
          "output_type": "stream",
          "text": [
            "Size of training set:  (153546, 31)\n"
          ],
          "name": "stdout"
        }
      ]
    },
    {
      "cell_type": "code",
      "metadata": {
        "id": "F2qywViuU5bi"
      },
      "source": [
        "from keras import models\n",
        "from keras import layers\n",
        "def model_build():\n",
        "    \n",
        "  model = models.Sequential()\n",
        "  model.add(layers.Dense(10, input_dim=31, activation='relu'))     # kernel_initializer='normal'\n",
        "  model.add(layers.Dense(8, activation='sigmoid'))                 # kernel_initializer='normal'\n",
        "  model.add(layers.Dense(6, activation='relu'))                 # kernel_initializer='normal'\n",
        "  return model\n",
        "model=model_build()\n"
      ],
      "execution_count": 54,
      "outputs": []
    },
    {
      "cell_type": "code",
      "metadata": {
        "id": "0KnxS9l3VjIS"
      },
      "source": [
        "model.compile(loss='binary_crossentropy', optimizer='adam', metrics=['accuracy'])\n"
      ],
      "execution_count": 58,
      "outputs": []
    },
    {
      "cell_type": "code",
      "metadata": {
        "colab": {
          "base_uri": "https://localhost:8080/"
        },
        "id": "6FL3CwGXVrLc",
        "outputId": "6bed16c8-6363-44f1-959f-4ba8a664863d"
      },
      "source": [
        "from keras.models import Sequential\n",
        "from keras.layers import Dense, Activation, Convolution2D, Flatten, Dropout, MaxPooling2D\n",
        "from keras.optimizers import SGD\n",
        "import tensorflow as tf\n",
        "model.fit(X_train.values, y_train, epochs=10)"
      ],
      "execution_count": 60,
      "outputs": [
        {
          "output_type": "stream",
          "text": [
            "Epoch 1/10\n",
            "4799/4799 [==============================] - 6s 1ms/step - loss: 0.0294 - accuracy: 0.9978\n",
            "Epoch 2/10\n",
            "4799/4799 [==============================] - 6s 1ms/step - loss: 0.0294 - accuracy: 0.9978\n",
            "Epoch 3/10\n",
            "4799/4799 [==============================] - 6s 1ms/step - loss: 0.0294 - accuracy: 0.9978\n",
            "Epoch 4/10\n",
            "4799/4799 [==============================] - 6s 1ms/step - loss: 0.0294 - accuracy: 0.9978\n",
            "Epoch 5/10\n",
            "4799/4799 [==============================] - 6s 1ms/step - loss: 0.0294 - accuracy: 0.9978\n",
            "Epoch 6/10\n",
            "4799/4799 [==============================] - 6s 1ms/step - loss: 0.0294 - accuracy: 0.9978\n",
            "Epoch 7/10\n",
            "4799/4799 [==============================] - 6s 1ms/step - loss: 0.0294 - accuracy: 0.9978\n",
            "Epoch 8/10\n",
            "4799/4799 [==============================] - 6s 1ms/step - loss: 0.0294 - accuracy: 0.9978\n",
            "Epoch 9/10\n",
            "4799/4799 [==============================] - 6s 1ms/step - loss: 0.0294 - accuracy: 0.9978\n",
            "Epoch 10/10\n",
            "4799/4799 [==============================] - 6s 1ms/step - loss: 0.0294 - accuracy: 0.9978\n"
          ],
          "name": "stdout"
        },
        {
          "output_type": "execute_result",
          "data": {
            "text/plain": [
              "<tensorflow.python.keras.callbacks.History at 0x7f93296bb910>"
            ]
          },
          "metadata": {
            "tags": []
          },
          "execution_count": 60
        }
      ]
    },
    {
      "cell_type": "code",
      "metadata": {
        "colab": {
          "base_uri": "https://localhost:8080/"
        },
        "id": "F3GvguF-XSKT",
        "outputId": "d0b9a264-2227-48f2-d216-baf35fbe4791"
      },
      "source": [
        "print(\"Loss: \", model.evaluate(X_test.values, y_test, verbose=0))\n"
      ],
      "execution_count": 65,
      "outputs": [
        {
          "output_type": "stream",
          "text": [
            "Loss:  [0.031314585357904434, 0.9978073835372925]\n"
          ],
          "name": "stdout"
        }
      ]
    },
    {
      "cell_type": "code",
      "metadata": {
        "id": "yTz11aSXXx1D"
      },
      "source": [
        "y_predicted = model.predict(X_test.values).T[0].astype(int)"
      ],
      "execution_count": 66,
      "outputs": []
    }
  ]
}